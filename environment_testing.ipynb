{
 "cells": [
  {
   "cell_type": "markdown",
   "metadata": {},
   "source": [
    "# Testing area for Python Gym Environment for Connect 4"
   ]
  },
  {
   "cell_type": "code",
   "execution_count": 7,
   "metadata": {},
   "outputs": [],
   "source": [
    "import numpy as np\n",
    "import gymnasium as gym\n",
    "from gymnasium import spaces\n",
    "from gymnasium.envs.registration import register\n",
    "from enum import Enum"
   ]
  },
  {
   "cell_type": "code",
   "execution_count": null,
   "metadata": {},
   "outputs": [],
   "source": [
    "register(\n",
    "    id = 'connect-4-v0',\n",
    "    entry_point='board-env:ConnectFourEnv',\n",
    ")\n",
    "\n",
    "class GameState(Enum):\n",
    "    COL_FILLED = 1\n",
    "    COL_EMPTY = 0\n",
    "\n",
    "class Connect4Board(gym.Env):\n",
    "    \"\"\" Connect 4 Environment \"\"\"\n",
    "\n",
    "    def __init__(self, render_mode=None):\n",
    "        super().__init__()\n",
    "        self.render_mode = render_mode\n",
    "        self.size = 7\n",
    "\n",
    "        # 6 rows and 7 columns, 0 is empty, 1 is player 1, -1 is player 2\n",
    "        self.observation_space = spaces.Box(low=-1, high=1, shape=(6, 7), dtype=int)\n",
    "\n",
    "        # Action is choosing a column to drop a piece\n",
    "        self.action_space = spaces.Discrete(7)\n",
    "\n",
    "        # Initialise the empty board\n",
    "        self.reset()\n",
    "\n",
    "    def reset(self, seed=None, options=None):\n",
    "        self.board = np.zeros((6, 7), dtype=int)\n",
    "        self.current_player = 1\n",
    "\n",
    "        obs = self._get_obs()\n",
    "        return obs, {}\n",
    "    \n",
    "    def step(self, action):\n",
    "        # Check if the column is full\n",
    "        if self.board[0][action] != GameState.COL_EMPTY:\n",
    "            reward = self.get_reward()\n",
    "            return self._get_obs(), -10, True, True, {}\n",
    "\n",
    "        # Check if new game state is \n",
    "\n",
    "        return obs, reward, terminated, truncated, info"
   ]
  }
 ],
 "metadata": {
  "kernelspec": {
   "display_name": "gym-env",
   "language": "python",
   "name": "python3"
  },
  "language_info": {
   "codemirror_mode": {
    "name": "ipython",
    "version": 3
   },
   "file_extension": ".py",
   "mimetype": "text/x-python",
   "name": "python",
   "nbconvert_exporter": "python",
   "pygments_lexer": "ipython3",
   "version": "3.13.2"
  }
 },
 "nbformat": 4,
 "nbformat_minor": 2
}
